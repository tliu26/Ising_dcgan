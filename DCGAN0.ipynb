{
 "cells": [
  {
   "cell_type": "code",
   "execution_count": 1,
   "metadata": {},
   "outputs": [],
   "source": [
    "%reload_ext autoreload\n",
    "%autoreload 2\n",
    "\n",
    "import numpy as np\n",
    "import torch\n",
    "import torch.nn as nn\n",
    "import torch.optim as optim\n",
    "from torch.utils.data import DataLoader\n",
    "import torchvision.utils as vutils\n",
    "import matplotlib.pyplot as plt\n",
    "import sys"
   ]
  },
  {
   "cell_type": "markdown",
   "metadata": {},
   "source": [
    "### Input\n",
    "\n",
    "Setting some constant values for the notebook"
   ]
  },
  {
   "cell_type": "code",
   "execution_count": 9,
   "metadata": {},
   "outputs": [],
   "source": [
    "manualSeed = 230\n",
    "datafile = \"./S_configs_64x64.dat\"\n",
    "batch_size = 32\n",
    "start_config = 15000\n",
    "num_configs = 10240\n",
    "Ny = 64\n",
    "Nx = 64\n",
    "nc = 1\n",
    "nz = 100\n",
    "ngf = 64\n",
    "ndf = 64\n",
    "num_epochs = 5\n",
    "lr = 0.000001\n",
    "beta1 = 0.5\n",
    "ngpu = 1\n",
    "N = Ny * Nx\n",
    "device = torch.device('cuda:0' if (torch.cuda.is_available() and ngpu > 0) else 'cpu')"
   ]
  },
  {
   "cell_type": "markdown",
   "metadata": {},
   "source": [
    "### Neural net\n",
    "#### Generator\n",
    "We follow the standard DCGAN generator network with one difference in the last layer. After tanh in the last layer, we set all elements larger than 0 to 1, and all elements less than 0 to -1, so the output is the usual Ising spin values. Let's call this procedure stepping because the function resembles a step function :)"
   ]
  },
  {
   "cell_type": "code",
   "execution_count": 3,
   "metadata": {},
   "outputs": [],
   "source": [
    "# custom weights initialization called on netG and netD\n",
    "def weights_init(m):\n",
    "    classname = m.__class__.__name__\n",
    "    if classname.find('Conv') != -1:\n",
    "        nn.init.normal_(m.weight.data, 0.0, 0.02)\n",
    "    elif classname.find('BatchNorm') != -1:\n",
    "        nn.init.normal_(m.weight.data, 1.0, 0.02)\n",
    "        nn.init.constant_(m.bias.data, 0)"
   ]
  },
  {
   "cell_type": "code",
   "execution_count": 4,
   "metadata": {},
   "outputs": [],
   "source": [
    "class Stepping(nn.Module):\n",
    "    def __init__(self):\n",
    "        super(Stepping, self).__init__()\n",
    "        \n",
    "    def forward(self, x):\n",
    "        return (x > 0).type_as(x) * 2 - 1"
   ]
  },
  {
   "cell_type": "code",
   "execution_count": 6,
   "metadata": {},
   "outputs": [],
   "source": [
    "class Generator(nn.Module):\n",
    "    def __init__(self, ngpu):\n",
    "        super(Generator, self).__init__()\n",
    "        self.ngpu = ngpu\n",
    "        self.main = nn.Sequential(\n",
    "            # input is Z, going into a convolution\n",
    "            nn.ConvTranspose2d( nz, ngf * 8, 4, 1, 0, bias=False),\n",
    "            nn.BatchNorm2d(ngf * 8),\n",
    "            nn.ReLU(True),\n",
    "            # state size. (ngf*8) x 4 x 4\n",
    "            nn.ConvTranspose2d(ngf * 8, ngf * 4, 4, 2, 1, bias=False),\n",
    "            nn.BatchNorm2d(ngf * 4),\n",
    "            nn.ReLU(True),\n",
    "            # state size. (ngf*4) x 8 x 8\n",
    "            nn.ConvTranspose2d( ngf * 4, ngf * 2, 4, 2, 1, bias=False),\n",
    "            nn.BatchNorm2d(ngf * 2),\n",
    "            nn.ReLU(True),\n",
    "            # state size. (ngf*2) x 16 x 16\n",
    "            nn.ConvTranspose2d( ngf * 2, ngf, 4, 2, 1, bias=False),\n",
    "            nn.BatchNorm2d(ngf),\n",
    "            nn.ReLU(True),\n",
    "            # state size. (ngf) x 32 x 32\n",
    "            nn.ConvTranspose2d( ngf, nc, 4, 2, 1, bias=False),\n",
    "            nn.Tanh(),\n",
    "            # state size. (nc) x 64 x 64\n",
    "        )\n",
    "\n",
    "    def forward(self, input):\n",
    "        return self.main(input)"
   ]
  },
  {
   "cell_type": "code",
   "execution_count": 7,
   "metadata": {},
   "outputs": [],
   "source": [
    "class Discriminator(nn.Module):\n",
    "    def __init__(self, ngpu):\n",
    "        super(Discriminator, self).__init__()\n",
    "        self.ngpu = ngpu\n",
    "        self.main = nn.Sequential(\n",
    "            # input is (nc) x 64 x 64\n",
    "            nn.Conv2d(nc, ndf, 4, 2, 1, bias=False),\n",
    "            nn.LeakyReLU(0.2, inplace=True),\n",
    "            # state size. (ndf) x 32 x 32\n",
    "            nn.Conv2d(ndf, ndf * 2, 4, 2, 1, bias=False),\n",
    "            nn.BatchNorm2d(ndf * 2),\n",
    "            nn.LeakyReLU(0.2, inplace=True),\n",
    "            # state size. (ndf*2) x 16 x 16\n",
    "            nn.Conv2d(ndf * 2, ndf * 4, 4, 2, 1, bias=False),\n",
    "            nn.BatchNorm2d(ndf * 4),\n",
    "            nn.LeakyReLU(0.2, inplace=True),\n",
    "            # state size. (ndf*4) x 8 x 8\n",
    "            nn.Conv2d(ndf * 4, ndf * 8, 4, 2, 1, bias=False),\n",
    "            nn.BatchNorm2d(ndf * 8),\n",
    "            nn.LeakyReLU(0.2, inplace=True),\n",
    "            # state size. (ndf*8) x 4 x 4\n",
    "            nn.Conv2d(ndf * 8, 1, 4, 1, 0, bias=False),\n",
    "            nn.Sigmoid()\n",
    "        )\n",
    "\n",
    "    def forward(self, input):\n",
    "        return self.main(input)"
   ]
  },
  {
   "cell_type": "markdown",
   "metadata": {},
   "source": [
    "### Data\n",
    "\n",
    "Load data and seed"
   ]
  },
  {
   "cell_type": "code",
   "execution_count": 8,
   "metadata": {},
   "outputs": [],
   "source": [
    "torch.manual_seed(manualSeed)\n",
    "np.random.seed(manualSeed)"
   ]
  },
  {
   "cell_type": "code",
   "execution_count": 10,
   "metadata": {},
   "outputs": [
    {
     "name": "stdout",
     "output_type": "stream",
     "text": [
      "S_snapshots.shape = (409600000,)\n",
      "S_snapshots.shape = (100000, 1, 64, 64)\n",
      "S_snapshots.shape = (85000, 1, 64, 64)\n"
     ]
    }
   ],
   "source": [
    "S_snapshots = np.fromfile(datafile, dtype=np.int32)\n",
    "print(\"S_snapshots.shape =\", S_snapshots.shape)\n",
    "S_snapshots.shape = -1, 1, Ny, Nx\n",
    "print(\"S_snapshots.shape =\", S_snapshots.shape)\n",
    "S_snapshots = S_snapshots[start_config:]\n",
    "print(\"S_snapshots.shape =\", S_snapshots.shape)\n",
    "np.random.shuffle(S_snapshots)\n",
    "S_snapshots_tensor = torch.tensor(S_snapshots, dtype=torch.double)"
   ]
  },
  {
   "cell_type": "markdown",
   "metadata": {},
   "source": [
    "Let's visualize the data"
   ]
  },
  {
   "cell_type": "code",
   "execution_count": 11,
   "metadata": {},
   "outputs": [
    {
     "data": {
      "image/png": "[encoded data removed]",
      "text/plain": [
       "<Figure size 432x432 with 1 Axes>"
      ]
     },
     "metadata": {},
     "output_type": "display_data"
    }
   ],
   "source": [
    "a = torch.tensor(S_snapshots[:16])\n",
    "b = vutils.make_grid(a, nrow=4, padding=1, normalize=True)\n",
    "plt.figure(figsize=(6,6))\n",
    "plt.axis(\"off\")\n",
    "plt.title(\"Training Images\")\n",
    "plt.pcolormesh(b[0], cmap='gray_r')\n",
    "plt.show()"
   ]
  },
  {
   "cell_type": "markdown",
   "metadata": {},
   "source": [
    "#### Training\n",
    "Make dataloader"
   ]
  },
  {
   "cell_type": "code",
   "execution_count": 12,
   "metadata": {},
   "outputs": [],
   "source": [
    "dataloader = torch.utils.data.DataLoader(S_snapshots_tensor[0:num_configs], batch_size=batch_size, shuffle=False)"
   ]
  },
  {
   "cell_type": "markdown",
   "metadata": {},
   "source": [
    "Initialize generator and discriminator and start training"
   ]
  },
  {
   "cell_type": "code",
   "execution_count": 13,
   "metadata": {},
   "outputs": [
    {
     "data": {
      "text/plain": [
       "Generator(\n",
       "  (main): Sequential(\n",
       "    (0): ConvTranspose2d(100, 512, kernel_size=(4, 4), stride=(1, 1), bias=False)\n",
       "    (1): BatchNorm2d(512, eps=1e-05, momentum=0.1, affine=True, track_running_stats=True)\n",
       "    (2): ReLU(inplace)\n",
       "    (3): ConvTranspose2d(512, 256, kernel_size=(4, 4), stride=(2, 2), padding=(1, 1), bias=False)\n",
       "    (4): BatchNorm2d(256, eps=1e-05, momentum=0.1, affine=True, track_running_stats=True)\n",
       "    (5): ReLU(inplace)\n",
       "    (6): ConvTranspose2d(256, 128, kernel_size=(4, 4), stride=(2, 2), padding=(1, 1), bias=False)\n",
       "    (7): BatchNorm2d(128, eps=1e-05, momentum=0.1, affine=True, track_running_stats=True)\n",
       "    (8): ReLU(inplace)\n",
       "    (9): ConvTranspose2d(128, 64, kernel_size=(4, 4), stride=(2, 2), padding=(1, 1), bias=False)\n",
       "    (10): BatchNorm2d(64, eps=1e-05, momentum=0.1, affine=True, track_running_stats=True)\n",
       "    (11): ReLU(inplace)\n",
       "    (12): ConvTranspose2d(64, 1, kernel_size=(4, 4), stride=(2, 2), padding=(1, 1), bias=False)\n",
       "    (13): Tanh()\n",
       "  )\n",
       ")"
      ]
     },
     "execution_count": 13,
     "metadata": {},
     "output_type": "execute_result"
    }
   ],
   "source": [
    "# Create the generator\n",
    "netG = Generator(ngpu).to(device)\n",
    "# GPU\n",
    "if (device.type == 'cuda') and (ngpu > 1):\n",
    "    netG = nn.DataParallel(netG, list(range(ngpu)))\n",
    "# Apply the weights_init function to randomly initialize all weights\n",
    "#  to mean=0, stdev=0.2.\n",
    "netG.apply(weights_init)"
   ]
  },
  {
   "cell_type": "code",
   "execution_count": 14,
   "metadata": {},
   "outputs": [
    {
     "data": {
      "text/plain": [
       "Discriminator(\n",
       "  (main): Sequential(\n",
       "    (0): Conv2d(1, 64, kernel_size=(4, 4), stride=(2, 2), padding=(1, 1), bias=False)\n",
       "    (1): LeakyReLU(negative_slope=0.2, inplace)\n",
       "    (2): Conv2d(64, 128, kernel_size=(4, 4), stride=(2, 2), padding=(1, 1), bias=False)\n",
       "    (3): BatchNorm2d(128, eps=1e-05, momentum=0.1, affine=True, track_running_stats=True)\n",
       "    (4): LeakyReLU(negative_slope=0.2, inplace)\n",
       "    (5): Conv2d(128, 256, kernel_size=(4, 4), stride=(2, 2), padding=(1, 1), bias=False)\n",
       "    (6): BatchNorm2d(256, eps=1e-05, momentum=0.1, affine=True, track_running_stats=True)\n",
       "    (7): LeakyReLU(negative_slope=0.2, inplace)\n",
       "    (8): Conv2d(256, 512, kernel_size=(4, 4), stride=(2, 2), padding=(1, 1), bias=False)\n",
       "    (9): BatchNorm2d(512, eps=1e-05, momentum=0.1, affine=True, track_running_stats=True)\n",
       "    (10): LeakyReLU(negative_slope=0.2, inplace)\n",
       "    (11): Conv2d(512, 1, kernel_size=(4, 4), stride=(1, 1), bias=False)\n",
       "    (12): Sigmoid()\n",
       "  )\n",
       ")"
      ]
     },
     "execution_count": 14,
     "metadata": {},
     "output_type": "execute_result"
    }
   ],
   "source": [
    "# Create the Discriminator\n",
    "netD = Discriminator(ngpu).to(device)\n",
    "if (device.type == 'cuda') and (ngpu > 1):\n",
    "    netD = nn.DataParallel(netD, list(range(ngpu)))\n",
    "netD.apply(weights_init)"
   ]
  },
  {
   "cell_type": "code",
   "execution_count": 15,
   "metadata": {},
   "outputs": [],
   "source": [
    "# Initialize BCELoss function\n",
    "criterion = nn.BCELoss()\n",
    "\n",
    "# Create batch of latent vectors that we will use to visualize\n",
    "#  the progression of the generator\n",
    "fixed_noise = torch.randn(64, nz, 1, 1, device=device)\n",
    "\n",
    "# Establish convention for real and fake labels during training\n",
    "real_label = 0.9\n",
    "fake_label = 0\n",
    "\n",
    "# Setup Adam optimizers for both G and D\n",
    "optimizerD = optim.Adam(netD.parameters(), lr=lr, betas=(beta1, 0.999))\n",
    "optimizerG = optim.Adam(netG.parameters(), lr=lr, betas=(beta1, 0.999))"
   ]
  },
  {
   "cell_type": "code",
   "execution_count": 16,
   "metadata": {},
   "outputs": [],
   "source": [
    "def check_gradient(net):\n",
    "    grad = 0\n",
    "    for module in net.modules():\n",
    "        for param in module.parameters():\n",
    "            try:\n",
    "                grad += param.grad.abs().sum().item()\n",
    "            except:\n",
    "                continue\n",
    "    return grad"
   ]
  },
  {
   "cell_type": "code",
   "execution_count": null,
   "metadata": {},
   "outputs": [
    {
     "name": "stdout",
     "output_type": "stream",
     "text": [
      "Starting Training Loop...\n",
      "G training 1, loss 1.238724708557129, D(G(z)) 0.34239888191223145\n",
      "G training 2, loss 1.1022164821624756, D(G(z)) 0.36133915185928345\n",
      "\n",
      "\n",
      "[0/5][0/320]\tLoss_D: 1.6959\tLoss_G: 1.1022\tD(x): 0.3366\tD(G(z)): 0.3114 / 0.3613\n",
      "G gradient:  120072.01197767258\n",
      "D gradient:  65933.76660096645\n",
      "G training 1, loss 0.9533228874206543, D(G(z)) 0.4312041103839874\n",
      "G training 2, loss 1.0177874565124512, D(G(z)) 0.40598708391189575\n",
      "\n",
      "\n",
      "[0/5][20/320]\tLoss_D: 1.6599\tLoss_G: 1.0178\tD(x): 0.3941\tD(G(z)): 0.4486 / 0.4060\n",
      "G gradient:  111997.55305659771\n",
      "D gradient:  66371.08228182793\n",
      "G training 1, loss 0.8507505655288696, D(G(z)) 0.509000301361084\n",
      "G training 2, loss 0.7420932054519653, D(G(z)) 0.5140374898910522\n",
      "\n",
      "\n",
      "[0/5][40/320]\tLoss_D: 1.8475\tLoss_G: 0.7421\tD(x): 0.3916\tD(G(z)): 0.5223 / 0.5140\n",
      "G gradient:  87476.0360519886\n",
      "D gradient:  74962.55619335175\n",
      "G training 1, loss 0.8316096663475037, D(G(z)) 0.5027353167533875\n",
      "G training 2, loss 0.7432429790496826, D(G(z)) 0.5580835342407227\n",
      "\n",
      "\n",
      "[0/5][60/320]\tLoss_D: 2.4325\tLoss_G: 0.7432\tD(x): 0.3101\tD(G(z)): 0.5440 / 0.5581\n",
      "G gradient:  84857.54298770428\n",
      "D gradient:  86119.49193835258\n",
      "G training 1, loss 0.6847653388977051, D(G(z)) 0.5666196346282959\n",
      "G training 2, loss 0.65192711353302, D(G(z)) 0.5846631526947021\n",
      "\n",
      "\n",
      "[0/5][80/320]\tLoss_D: 2.1698\tLoss_G: 0.6519\tD(x): 0.3481\tD(G(z)): 0.5035 / 0.5847\n",
      "G gradient:  75408.31806743145\n",
      "D gradient:  86146.76655006409\n",
      "G training 1, loss 0.7752677202224731, D(G(z)) 0.5249826312065125\n",
      "G training 2, loss 0.7429672479629517, D(G(z)) 0.536335289478302\n",
      "\n",
      "\n",
      "[0/5][100/320]\tLoss_D: 2.0671\tLoss_G: 0.7430\tD(x): 0.4001\tD(G(z)): 0.5033 / 0.5363\n",
      "G gradient:  86654.78914225101\n",
      "D gradient:  80969.96901834011\n",
      "G training 1, loss 0.6223547458648682, D(G(z)) 0.613804280757904\n",
      "G training 2, loss 0.5512189865112305, D(G(z)) 0.6609551906585693\n",
      "\n",
      "\n",
      "[0/5][120/320]\tLoss_D: 2.3371\tLoss_G: 0.5512\tD(x): 0.3653\tD(G(z)): 0.5890 / 0.6610\n",
      "G gradient:  62317.54564225674\n",
      "D gradient:  93532.35368514061\n",
      "G training 1, loss 0.648676872253418, D(G(z)) 0.6002354621887207\n",
      "G training 2, loss 0.5534184575080872, D(G(z)) 0.6418712139129639\n",
      "\n",
      "\n",
      "[0/5][140/320]\tLoss_D: 2.2534\tLoss_G: 0.5534\tD(x): 0.3776\tD(G(z)): 0.5810 / 0.6419\n",
      "G gradient:  61871.5143122077\n",
      "D gradient:  92649.05544161797\n",
      "G training 1, loss 0.5214456915855408, D(G(z)) 0.6746392250061035\n",
      "G training 2, loss 0.5390684604644775, D(G(z)) 0.6642774343490601\n",
      "\n",
      "\n",
      "[0/5][160/320]\tLoss_D: 2.4869\tLoss_G: 0.5391\tD(x): 0.3441\tD(G(z)): 0.6075 / 0.6643\n",
      "G gradient:  58383.03791731596\n",
      "D gradient:  95099.05188238621\n",
      "G training 1, loss 0.6584904193878174, D(G(z)) 0.5884758234024048\n",
      "G training 2, loss 0.6434517502784729, D(G(z)) 0.5895264148712158\n",
      "\n",
      "\n",
      "[0/5][180/320]\tLoss_D: 1.9726\tLoss_G: 0.6435\tD(x): 0.4300\tD(G(z)): 0.6081 / 0.5895\n",
      "G gradient:  71614.76982861757\n",
      "D gradient:  86048.37850749493\n",
      "G training 1, loss 0.5450005531311035, D(G(z)) 0.6351755857467651\n",
      "G training 2, loss 0.671435534954071, D(G(z)) 0.5805126428604126\n",
      "\n",
      "\n",
      "[0/5][200/320]\tLoss_D: 2.0965\tLoss_G: 0.6714\tD(x): 0.3738\tD(G(z)): 0.5863 / 0.5805\n",
      "G gradient:  74765.83611613512\n",
      "D gradient:  85749.31976938248\n",
      "G training 1, loss 0.7772112488746643, D(G(z)) 0.5290219783782959\n",
      "G training 2, loss 0.6059850454330444, D(G(z)) 0.6218013763427734\n",
      "\n",
      "\n",
      "[0/5][220/320]\tLoss_D: 2.3212\tLoss_G: 0.6060\tD(x): 0.3939\tD(G(z)): 0.5691 / 0.6218\n",
      "G gradient:  68053.20820426941\n",
      "D gradient:  91400.95686721802\n",
      "G training 1, loss 0.581207275390625, D(G(z)) 0.6502351760864258\n",
      "G training 2, loss 0.7065503597259521, D(G(z)) 0.5485535264015198\n",
      "\n",
      "\n",
      "[0/5][240/320]\tLoss_D: 1.9975\tLoss_G: 0.7066\tD(x): 0.3644\tD(G(z)): 0.5923 / 0.5486\n",
      "G gradient:  80904.50374603271\n",
      "D gradient:  84220.557128191\n",
      "G training 1, loss 0.6636469960212708, D(G(z)) 0.599297046661377\n",
      "G training 2, loss 0.4953089654445648, D(G(z)) 0.6893666982650757\n",
      "\n",
      "\n",
      "[0/5][260/320]\tLoss_D: 2.5208\tLoss_G: 0.4953\tD(x): 0.3652\tD(G(z)): 0.5667 / 0.6894\n",
      "G gradient:  50255.011087954044\n",
      "D gradient:  100284.79561543465\n",
      "G training 1, loss 0.5765738487243652, D(G(z)) 0.6321085691452026\n",
      "G training 2, loss 0.6314023733139038, D(G(z)) 0.6225009560585022\n",
      "\n",
      "\n",
      "[0/5][280/320]\tLoss_D: 2.4661\tLoss_G: 0.6314\tD(x): 0.3475\tD(G(z)): 0.5756 / 0.6225\n",
      "G gradient:  70247.4328186512\n",
      "D gradient:  92535.47856116295\n",
      "G training 1, loss 0.584404468536377, D(G(z)) 0.6157717108726501\n",
      "G training 2, loss 0.6447789669036865, D(G(z)) 0.5956617593765259\n",
      "\n",
      "\n",
      "[0/5][300/320]\tLoss_D: 2.1240\tLoss_G: 0.6448\tD(x): 0.3727\tD(G(z)): 0.5765 / 0.5957\n",
      "G gradient:  72497.90589880943\n",
      "D gradient:  91177.43562877178\n",
      "G training 1, loss 0.5969011783599854, D(G(z)) 0.6131097674369812\n",
      "G training 2, loss 0.7248247861862183, D(G(z)) 0.5560767650604248\n",
      "\n",
      "\n",
      "[1/5][0/320]\tLoss_D: 2.0345\tLoss_G: 0.7248\tD(x): 0.3923\tD(G(z)): 0.5948 / 0.5561\n",
      "G gradient:  80731.7367657423\n",
      "D gradient:  84461.35741853714\n",
      "G training 1, loss 0.6644281148910522, D(G(z)) 0.585408091545105\n",
      "G training 2, loss 0.6748557090759277, D(G(z)) 0.586793839931488\n",
      "\n",
      "\n",
      "[1/5][20/320]\tLoss_D: 2.0528\tLoss_G: 0.6749\tD(x): 0.4028\tD(G(z)): 0.6438 / 0.5868\n",
      "G gradient:  74492.48094928265\n",
      "D gradient:  86571.70878875256\n",
      "G training 1, loss 0.6046850085258484, D(G(z)) 0.6085600852966309\n",
      "G training 2, loss 0.5940089225769043, D(G(z)) 0.6092246770858765\n",
      "\n",
      "\n",
      "[1/5][40/320]\tLoss_D: 2.0818\tLoss_G: 0.5940\tD(x): 0.3983\tD(G(z)): 0.5450 / 0.6092\n",
      "G gradient:  66543.25991284847\n",
      "D gradient:  89531.56483268738\n",
      "G training 1, loss 0.7136556506156921, D(G(z)) 0.5379459261894226\n",
      "G training 2, loss 0.6519743800163269, D(G(z)) 0.5732388496398926\n",
      "\n",
      "\n",
      "[1/5][60/320]\tLoss_D: 2.2663\tLoss_G: 0.6520\tD(x): 0.3154\tD(G(z)): 0.5530 / 0.5732\n",
      "G gradient:  73139.01103842258\n",
      "D gradient:  89150.29766643047\n",
      "G training 1, loss 0.6445571184158325, D(G(z)) 0.593216061592102\n",
      "G training 2, loss 0.6620427370071411, D(G(z)) 0.5800930857658386\n",
      "\n",
      "\n",
      "[1/5][80/320]\tLoss_D: 2.0986\tLoss_G: 0.6620\tD(x): 0.3574\tD(G(z)): 0.5426 / 0.5801\n",
      "G gradient:  70876.77327382565\n",
      "D gradient:  89396.44900166988\n",
      "G training 1, loss 0.6677421927452087, D(G(z)) 0.5818601250648499\n",
      "G training 2, loss 0.5891652703285217, D(G(z)) 0.625860333442688\n",
      "\n",
      "\n",
      "[1/5][100/320]\tLoss_D: 2.2938\tLoss_G: 0.5892\tD(x): 0.3870\tD(G(z)): 0.5866 / 0.6259\n",
      "G gradient:  63023.9128652215\n",
      "D gradient:  94004.97824299335\n",
      "G training 1, loss 0.6294980049133301, D(G(z)) 0.5807325839996338\n",
      "G training 2, loss 0.7092349529266357, D(G(z)) 0.5324508547782898\n",
      "\n",
      "\n",
      "[1/5][120/320]\tLoss_D: 1.9482\tLoss_G: 0.7092\tD(x): 0.3671\tD(G(z)): 0.5103 / 0.5325\n",
      "G gradient:  77904.17357504368\n",
      "D gradient:  83049.58349704742\n",
      "G training 1, loss 0.5768188238143921, D(G(z)) 0.6189777255058289\n",
      "G training 2, loss 0.6566131711006165, D(G(z)) 0.5811837315559387\n",
      "\n",
      "\n",
      "[1/5][140/320]\tLoss_D: 2.0771\tLoss_G: 0.6566\tD(x): 0.3669\tD(G(z)): 0.5976 / 0.5812\n",
      "G gradient:  72111.0230653882\n",
      "D gradient:  88201.69197785854\n",
      "G training 1, loss 0.6319087743759155, D(G(z)) 0.5884323120117188\n",
      "G training 2, loss 0.6943166851997375, D(G(z)) 0.555400550365448\n",
      "\n",
      "\n",
      "[1/5][160/320]\tLoss_D: 2.1851\tLoss_G: 0.6943\tD(x): 0.3451\tD(G(z)): 0.5445 / 0.5554\n",
      "G gradient:  74954.852799654\n",
      "D gradient:  87899.57084798813\n",
      "G training 1, loss 0.609197735786438, D(G(z)) 0.59113609790802\n",
      "G training 2, loss 0.7061076760292053, D(G(z)) 0.5571321249008179\n",
      "\n",
      "\n",
      "[1/5][180/320]\tLoss_D: 1.8893\tLoss_G: 0.7061\tD(x): 0.4426\tD(G(z)): 0.5512 / 0.5571\n",
      "G gradient:  76790.15698492527\n",
      "D gradient:  86791.1716003418\n",
      "G training 1, loss 0.7143343687057495, D(G(z)) 0.5468887090682983\n",
      "G training 2, loss 0.5821726322174072, D(G(z)) 0.632020890712738\n",
      "\n",
      "\n",
      "[1/5][200/320]\tLoss_D: 2.1620\tLoss_G: 0.5822\tD(x): 0.4015\tD(G(z)): 0.5601 / 0.6320\n",
      "G gradient:  59899.83012235165\n",
      "D gradient:  96186.06501030922\n",
      "G training 1, loss 0.6469885110855103, D(G(z)) 0.5902913808822632\n",
      "G training 2, loss 0.6060460209846497, D(G(z)) 0.5946147441864014\n",
      "\n",
      "\n",
      "[1/5][220/320]\tLoss_D: 2.0523\tLoss_G: 0.6060\tD(x): 0.4005\tD(G(z)): 0.6119 / 0.5946\n",
      "G gradient:  64496.95274734497\n",
      "D gradient:  91134.503064394\n",
      "G training 1, loss 0.7001989483833313, D(G(z)) 0.5294916033744812\n",
      "G training 2, loss 0.6669726967811584, D(G(z)) 0.5630545616149902\n",
      "\n",
      "\n",
      "[1/5][240/320]\tLoss_D: 2.0581\tLoss_G: 0.6670\tD(x): 0.3498\tD(G(z)): 0.5639 / 0.5631\n",
      "G gradient:  72643.90164220333\n",
      "D gradient:  87915.05978107452\n",
      "G training 1, loss 0.6504788398742676, D(G(z)) 0.5640116333961487\n",
      "G training 2, loss 0.7279455661773682, D(G(z)) 0.5382793545722961\n",
      "\n",
      "\n",
      "[1/5][260/320]\tLoss_D: 2.0359\tLoss_G: 0.7279\tD(x): 0.3848\tD(G(z)): 0.5981 / 0.5383\n",
      "G gradient:  77532.33911722898\n",
      "D gradient:  86374.32808184624\n",
      "G training 1, loss 0.6736559271812439, D(G(z)) 0.5827695727348328\n",
      "G training 2, loss 0.6054626703262329, D(G(z)) 0.6094393730163574\n",
      "\n",
      "\n",
      "[1/5][280/320]\tLoss_D: 2.3285\tLoss_G: 0.6055\tD(x): 0.3421\tD(G(z)): 0.5453 / 0.6094\n",
      "G gradient:  64826.65305393934\n",
      "D gradient:  94671.95680260658\n",
      "G training 1, loss 0.5488476753234863, D(G(z)) 0.6451478004455566\n",
      "G training 2, loss 0.6932610273361206, D(G(z)) 0.5638321042060852\n",
      "\n",
      "\n",
      "[1/5][300/320]\tLoss_D: 1.9733\tLoss_G: 0.6933\tD(x): 0.3810\tD(G(z)): 0.6200 / 0.5638\n",
      "G gradient:  74665.4746196866\n",
      "D gradient:  88272.58782076836\n",
      "G training 1, loss 0.6075403094291687, D(G(z)) 0.6085751056671143\n",
      "G training 2, loss 0.6070003509521484, D(G(z)) 0.5853750705718994\n",
      "\n",
      "\n",
      "[2/5][0/320]\tLoss_D: 2.0142\tLoss_G: 0.6070\tD(x): 0.4103\tD(G(z)): 0.6171 / 0.5854\n",
      "G gradient:  64373.22494673729\n",
      "D gradient:  90358.42852950096\n",
      "G training 1, loss 0.6060806512832642, D(G(z)) 0.6397383809089661\n",
      "G training 2, loss 0.6964057683944702, D(G(z)) 0.5687884092330933\n",
      "\n",
      "\n",
      "[2/5][20/320]\tLoss_D: 1.9941\tLoss_G: 0.6964\tD(x): 0.4035\tD(G(z)): 0.5326 / 0.5688\n",
      "G gradient:  73335.51757228374\n",
      "D gradient:  90388.65162920952\n",
      "G training 1, loss 0.6568180322647095, D(G(z)) 0.5635174512863159\n",
      "G training 2, loss 0.7523527145385742, D(G(z)) 0.5310328602790833\n",
      "\n",
      "\n",
      "[2/5][40/320]\tLoss_D: 1.8390\tLoss_G: 0.7524\tD(x): 0.4083\tD(G(z)): 0.5538 / 0.5310\n",
      "G gradient:  79048.59787487984\n",
      "D gradient:  85552.44868826866\n",
      "G training 1, loss 0.703378438949585, D(G(z)) 0.5329995155334473\n",
      "G training 2, loss 0.5459398031234741, D(G(z)) 0.6528669595718384\n",
      "\n",
      "\n",
      "[2/5][60/320]\tLoss_D: 2.4645\tLoss_G: 0.5459\tD(x): 0.3306\tD(G(z)): 0.5457 / 0.6529\n",
      "G gradient:  57705.968957304955\n",
      "D gradient:  104227.32512140274\n",
      "G training 1, loss 0.7114640474319458, D(G(z)) 0.5418686866760254\n",
      "G training 2, loss 0.6702933311462402, D(G(z)) 0.559049129486084\n",
      "\n",
      "\n",
      "[2/5][80/320]\tLoss_D: 1.9733\tLoss_G: 0.6703\tD(x): 0.3717\tD(G(z)): 0.5834 / 0.5590\n",
      "G gradient:  72246.17213487625\n",
      "D gradient:  91171.50763177872\n",
      "G training 1, loss 0.6830582618713379, D(G(z)) 0.57752525806427\n",
      "G training 2, loss 0.7317379117012024, D(G(z)) 0.5352141857147217\n",
      "\n",
      "\n",
      "[2/5][100/320]\tLoss_D: 2.0087\tLoss_G: 0.7317\tD(x): 0.3773\tD(G(z)): 0.5709 / 0.5352\n",
      "G gradient:  75332.83611989021\n",
      "D gradient:  89347.38764190674\n",
      "G training 1, loss 0.7071231603622437, D(G(z)) 0.5253865718841553\n",
      "G training 2, loss 0.6755515933036804, D(G(z)) 0.5428060293197632\n",
      "\n",
      "\n",
      "[2/5][120/320]\tLoss_D: 1.8563\tLoss_G: 0.6756\tD(x): 0.3976\tD(G(z)): 0.4831 / 0.5428\n",
      "G gradient:  70630.6052416563\n",
      "D gradient:  89976.18586027622\n"
     ]
    }
   ],
   "source": [
    "# Training Loop\n",
    "\n",
    "# Lists to keep track of progress\n",
    "img_list = []\n",
    "G_losses = []\n",
    "D_losses = []\n",
    "iters = 0\n",
    "\n",
    "print(\"Starting Training Loop...\")\n",
    "# For each epoch\n",
    "for epoch in range(num_epochs):\n",
    "    # For each batch in the dataloader\n",
    "    for i, data in enumerate(dataloader):\n",
    "\n",
    "        ############################\n",
    "        # (1) Update G network: maximize log(D(G(z)))\n",
    "        ###########################\n",
    "        real_cpu = data.to(device)\n",
    "        b_size = real_cpu.size(0)\n",
    "        ## Train with all-fake batch\n",
    "        # Generate batch of latent vectors\n",
    "        netG.zero_grad()\n",
    "        noise = torch.randn(b_size, nz, 1, 1, device=device)\n",
    "        # Generate fake image batch with G\n",
    "        fake = netG(noise)\n",
    "        label = torch.full((b_size,), real_label, device=device)   # fake labels are real for generator cost\n",
    "        # Classify all fake batch with D\n",
    "        output = netD(fake).view(-1)\n",
    "        # Calculate G's loss on the all-fake batch\n",
    "        errG = criterion(output, label)\n",
    "        # Calculate the gradients for this batch\n",
    "        errG.backward()\n",
    "        D_G_z1 = output.mean().item()\n",
    "        # Update G\n",
    "        optimizerG.step()\n",
    "        \n",
    "        for j in range(1,3):\n",
    "            noise = torch.randn(b_size, nz, 1, 1, device=device)\n",
    "            fake = netG(noise)\n",
    "            netG.zero_grad()\n",
    "            label.fill_(real_label)  # fake labels are real for generator cost\n",
    "            # Since we just updated D, perform another forward pass of all-fake batch through D\n",
    "            output = netD(fake).view(-1)\n",
    "            # Calculate G's loss based on this output\n",
    "            errG = criterion(output, label)\n",
    "            # Calculate gradients for G\n",
    "            errG.backward()\n",
    "            D_G_z2 = output.mean().item()\n",
    "            # Update G\n",
    "            optimizerG.step()\n",
    "            if i % 20 == 0:\n",
    "                print(\"G training {}, loss {}, D(G(z)) {}\".format(j, errG.item(), D_G_z2))\n",
    "\n",
    "        ############################\n",
    "        # (2) Update D network: maximize log(D(x)) + log(1 - D(G(z)))\n",
    "        ###########################\n",
    "        ## Train with all-real batch\n",
    "        netD.zero_grad()\n",
    "        # Format batch\n",
    "        label = torch.full((b_size,), real_label, device=device)\n",
    "        # Forward pass real batch through D\n",
    "        output = netD(real_cpu.float()).view(-1)\n",
    "        # Calculate loss on all-real batch\n",
    "        errD_real = criterion(output, label)\n",
    "        # Calculate gradients for D in backward pass\n",
    "        errD_real.backward()\n",
    "        D_x = output.mean().item()\n",
    "        \n",
    "        label.fill_(fake_label)\n",
    "        output = netD(fake.detach()).view(-1)\n",
    "        errD_fake = criterion(output, label)\n",
    "        errD_fake.backward()\n",
    "        D_G_z2 = output.mean().item()\n",
    "        errD = errD_real + errD_fake\n",
    "        optimizerD.step()\n",
    "        \n",
    "        # Output training stats\n",
    "        if i % 20 == 0:\n",
    "            print('\\n')\n",
    "            print('[%d/%d][%d/%d]\\tLoss_D: %.4f\\tLoss_G: %.4f\\tD(x): %.4f\\tD(G(z)): %.4f / %.4f'\n",
    "                  % (epoch, num_epochs, i, len(dataloader),\n",
    "                     errD.item(), errG.item(), D_x, D_G_z1, D_G_z2))\n",
    "            print(\"G gradient: \", check_gradient(netG))\n",
    "            print(\"D gradient: \", check_gradient(netD))\n",
    "\n",
    "        # Save Losses for plotting later\n",
    "        G_losses.append(errG.item())\n",
    "        D_losses.append(errD.item())\n",
    "\n",
    "        # Check how the generator is doing by saving G's output on fixed_noise\n",
    "        if (iters % 500 == 0) or ((epoch == num_epochs-1) and (i == len(dataloader)-1)):\n",
    "            with torch.no_grad():\n",
    "                fake = netG(fixed_noise).detach().cpu()\n",
    "            img_list.append(vutils.make_grid(fake, padding=2, normalize=True))\n",
    "\n",
    "        iters += 1"
   ]
  },
  {
   "cell_type": "code",
   "execution_count": 16,
   "metadata": {},
   "outputs": [
    {
     "data": {
      "text/plain": [
       "[<matplotlib.lines.Line2D at 0x7f3028f8bcc0>]"
      ]
     },
     "execution_count": 16,
     "metadata": {},
     "output_type": "execute_result"
    },
    {
     "data": {
      "image/png": "[encoded data removed]",
      "text/plain": [
       "<Figure size 432x288 with 1 Axes>"
      ]
     },
     "metadata": {},
     "output_type": "display_data"
    }
   ],
   "source": [
    "plt.plot(range(len(G_losses)), G_losses)"
   ]
  },
  {
   "cell_type": "code",
   "execution_count": 17,
   "metadata": {},
   "outputs": [
    {
     "data": {
      "text/plain": [
       "[<matplotlib.lines.Line2D at 0x7f3028f9a358>]"
      ]
     },
     "execution_count": 17,
     "metadata": {},
     "output_type": "execute_result"
    },
    {
     "data": {
      "image/png": "[encoded data removed]",
      "text/plain": [
       "<Figure size 432x288 with 1 Axes>"
      ]
     },
     "metadata": {},
     "output_type": "display_data"
    }
   ],
   "source": [
    "plt.plot(range(len(D_losses)), D_losses)"
   ]
  },
  {
   "cell_type": "markdown",
   "metadata": {},
   "source": [
    "#### Check gradients"
   ]
  },
  {
   "cell_type": "code",
   "execution_count": null,
   "metadata": {},
   "outputs": [],
   "source": [
    "G_modules_list = list(netG.modules())\n",
    "D_modules_list = list(netD.modules())"
   ]
  },
  {
   "cell_type": "code",
   "execution_count": null,
   "metadata": {},
   "outputs": [],
   "source": [
    "print(G_modules_list[5], D_modules_list[4])\n",
    "g_param = list(G_modules_list[5].parameters())\n",
    "d_param = list(D_modules_list[4].parameters())"
   ]
  },
  {
   "cell_type": "code",
   "execution_count": null,
   "metadata": {},
   "outputs": [],
   "source": [
    "g_param[0].grad"
   ]
  },
  {
   "cell_type": "code",
   "execution_count": null,
   "metadata": {},
   "outputs": [],
   "source": [
    "d_param[0].grad[0,0,0,0]"
   ]
  },
  {
   "cell_type": "markdown",
   "metadata": {},
   "source": [
    "#### check output"
   ]
  },
  {
   "cell_type": "code",
   "execution_count": 18,
   "metadata": {},
   "outputs": [],
   "source": [
    "fake = netG(fixed_noise)"
   ]
  },
  {
   "cell_type": "code",
   "execution_count": 19,
   "metadata": {},
   "outputs": [],
   "source": [
    "output = netD(fake).view(-1)"
   ]
  },
  {
   "cell_type": "code",
   "execution_count": 21,
   "metadata": {},
   "outputs": [
    {
     "data": {
      "image/png": "[encoded data removed]",
      "text/plain": [
       "<Figure size 432x288 with 1 Axes>"
      ]
     },
     "metadata": {},
     "output_type": "display_data"
    }
   ],
   "source": [
    "plt.pcolormesh(S_snapshots[1939,0], cmap='binary')\n",
    "plt.show()"
   ]
  },
  {
   "cell_type": "code",
   "execution_count": 22,
   "metadata": {},
   "outputs": [],
   "source": [
    "step_f = Stepping()"
   ]
  },
  {
   "cell_type": "code",
   "execution_count": 23,
   "metadata": {},
   "outputs": [
    {
     "data": {
      "image/png": "[encoded data removed]",
      "text/plain": [
       "<Figure size 432x288 with 1 Axes>"
      ]
     },
     "metadata": {},
     "output_type": "display_data"
    }
   ],
   "source": [
    "plt.pcolormesh(step_f(fake[34].detach().cpu()[0]), cmap='binary')\n",
    "plt.show()"
   ]
  },
  {
   "cell_type": "code",
   "execution_count": 54,
   "metadata": {},
   "outputs": [
    {
     "data": {
      "image/png": "[encoded data removed]",
      "text/plain": [
       "<Figure size 432x288 with 1 Axes>"
      ]
     },
     "metadata": {},
     "output_type": "display_data"
    }
   ],
   "source": [
    "plt.pcolormesh(step_f(fake[42].detach().cpu()[0]), cmap='binary')\n",
    "plt.show()"
   ]
  },
  {
   "cell_type": "code",
   "execution_count": 55,
   "metadata": {},
   "outputs": [
    {
     "data": {
      "image/png": "[encoded data removed]",
      "text/plain": [
       "<Figure size 432x288 with 1 Axes>"
      ]
     },
     "metadata": {},
     "output_type": "display_data"
    }
   ],
   "source": [
    "plt.pcolormesh(step_f(fake[43].detach().cpu()[0]), cmap='binary')\n",
    "plt.show()"
   ]
  },
  {
   "cell_type": "code",
   "execution_count": 67,
   "metadata": {},
   "outputs": [
    {
     "data": {
      "text/plain": [
       "tensor([[-1., -1., -1.,  ...,  1., -1., -1.],\n",
       "        [-1., -1., -1.,  ..., -1., -1., -1.],\n",
       "        [-1., -1., -1.,  ..., -1., -1., -1.],\n",
       "        ...,\n",
       "        [-1., -1., -1.,  ..., -1., -1., -1.],\n",
       "        [-1., -1., -1.,  ...,  1., -1., -1.],\n",
       "        [-1., -1., -1.,  ..., -1., -1., -1.]])"
      ]
     },
     "execution_count": 67,
     "metadata": {},
     "output_type": "execute_result"
    }
   ],
   "source": [
    "step_f(fake[12].detach().cpu()[0])"
   ]
  },
  {
   "cell_type": "code",
   "execution_count": null,
   "metadata": {},
   "outputs": [],
   "source": [
    "plt.pcolormesh(data[5][0], cmap='binary')"
   ]
  },
  {
   "cell_type": "code",
   "execution_count": null,
   "metadata": {},
   "outputs": [],
   "source": []
  }
 ],
 "metadata": {
  "kernelspec": {
   "display_name": "Environment (conda_pytorch_p36)",
   "language": "python",
   "name": "conda_pytorch_p36"
  },
  "language_info": {
   "codemirror_mode": {
    "name": "ipython",
    "version": 3
   },
   "file_extension": ".py",
   "mimetype": "text/x-python",
   "name": "python",
   "nbconvert_exporter": "python",
   "pygments_lexer": "ipython3",
   "version": "3.6.5"
  }
 },
 "nbformat": 4,
 "nbformat_minor": 2
}
