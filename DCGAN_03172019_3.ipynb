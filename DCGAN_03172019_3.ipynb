{
 "cells": [
  {
   "cell_type": "code",
   "execution_count": 1,
   "metadata": {},
   "outputs": [],
   "source": [
    "%reload_ext autoreload\n",
    "%autoreload 2\n",
    "\n",
    "import numpy as np\n",
    "import torch\n",
    "import torch.nn as nn\n",
    "import torch.optim as optim\n",
    "from torch.utils.data import DataLoader\n",
    "import torchvision.utils as vutils\n",
    "import matplotlib.pyplot as plt\n",
    "import sys\n",
    "from torch.autograd import Variable\n",
    "from torch.autograd import grad as torch_grad\n",
    "import seaborn as sns\n",
    "\n",
    "#from spectral_normalization import SpectralNorm"
   ]
  },
  {
   "cell_type": "markdown",
   "metadata": {},
   "source": [
    "### Input\n",
    "\n",
    "Setting some constant values for the notebook"
   ]
  },
  {
   "cell_type": "code",
   "execution_count": 2,
   "metadata": {},
   "outputs": [],
   "source": [
    "manualSeed = 230\n",
    "datafile = \"s_configs_Tc_64_2.npy\"\n",
    "batch_size = 64\n",
    "start_config = 15000\n",
    "num_configs = 50000\n",
    "nu_G = 10\n",
    "Ny = 64\n",
    "Nx = 64\n",
    "nc = 1\n",
    "nz = 100\n",
    "ngf = 64\n",
    "ndf = 64\n",
    "num_epochs = 5\n",
    "lr = 0.0001\n",
    "beta1 = 0.5\n",
    "ngpu = 1\n",
    "N = Ny * Nx\n",
    "device = torch.device('cuda:0')\n",
    "#device = torch.device('cuda:0' if (torch.cuda.is_available() and ngpu > 0) else 'cpu')"
   ]
  },
  {
   "cell_type": "markdown",
   "metadata": {},
   "source": [
    "#### Determine your algorithm"
   ]
  },
  {
   "cell_type": "code",
   "execution_count": 3,
   "metadata": {},
   "outputs": [],
   "source": [
    "Loss_func = \"BCE\" # \"hinge\" or \"Wasserstein\" or \"BCE\"\n",
    "optimizer = \"Adam\" # \"RMS\", \"Adam\"\n",
    "Mz_loss = True # if the magnetization penalty is applied\n",
    "SNGAN = False # if using the spectral normalization GAN\n",
    "WGAN = False # if using the Wasserstein-GAN\n",
    "Gradientpenalty = False # if using the gradient penalty (for W-GAN)\n",
    "WeightClipping = False # if using the weight clipping (for W-GAN)"
   ]
  },
  {
   "cell_type": "markdown",
   "metadata": {},
   "source": [
    "### Neural net\n",
    "#### Generator\n",
    "We follow the standard DCGAN generator network with one difference in the last layer. After tanh in the last layer, we set all elements larger than 0 to 1, and all elements less than 0 to -1, so the output is the usual Ising spin values. Let's call this procedure stepping because the function resembles a step function :)"
   ]
  },
  {
   "cell_type": "code",
   "execution_count": 4,
   "metadata": {},
   "outputs": [],
   "source": [
    "# custom weights initialization called on netG and netD\n",
    "# The weights_init function takes an initialized model as input \n",
    "#  and reinitializes all convolutional, convolutional-transpose, and batch normalization layers \n",
    "#  to meet this criteria.\n",
    "def weights_init(m):\n",
    "    classname = m.__class__.__name__\n",
    "    if classname.find('Conv') != -1:\n",
    "        nn.init.normal_(m.weight.data, 0.0, 0.02)\n",
    "    elif classname.find('BatchNorm') != -1:\n",
    "        nn.init.normal_(m.weight.data, 1.0, 0.02)\n",
    "        nn.init.constant_(m.bias.data, 0)"
   ]
  },
  {
   "cell_type": "code",
   "execution_count": 5,
   "metadata": {},
   "outputs": [],
   "source": [
    "class Stepping(nn.Module):\n",
    "    def __init__(self):\n",
    "        super(Stepping, self).__init__()\n",
    "        \n",
    "    def forward(self, x):\n",
    "        return (x > 0).type_as(x) * 2 - 1"
   ]
  },
  {
   "cell_type": "code",
   "execution_count": 6,
   "metadata": {},
   "outputs": [],
   "source": [
    "class Generator(nn.Module):\n",
    "    def __init__(self, ngpu):\n",
    "        super(Generator, self).__init__()\n",
    "        self.ngpu = ngpu\n",
    "        self.main = nn.Sequential(\n",
    "            # input is Z, going into a convolution\n",
    "            nn.ConvTranspose2d( nz, ngf * 8, 4, 1, 0, bias=False),\n",
    "            nn.BatchNorm2d(ngf * 8),\n",
    "            nn.ReLU(True),\n",
    "            # state size. (ngf*8) x 4 x 4\n",
    "            nn.ConvTranspose2d(ngf * 8, ngf * 4, 4, 2, 1, bias=False),\n",
    "            nn.BatchNorm2d(ngf * 4),\n",
    "            nn.ReLU(True),\n",
    "            # state size. (ngf*4) x 8 x 8\n",
    "            nn.ConvTranspose2d( ngf * 4, ngf * 2, 4, 2, 1, bias=False),\n",
    "            nn.BatchNorm2d(ngf * 2),\n",
    "            nn.ReLU(True),\n",
    "            # state size. (ngf*2) x 16 x 16\n",
    "            nn.ConvTranspose2d( ngf * 2, ngf, 4, 2, 1, bias=False),\n",
    "            nn.BatchNorm2d(ngf),\n",
    "            nn.ReLU(True),\n",
    "            # state size. (ngf) x 32 x 32\n",
    "            nn.ConvTranspose2d( ngf, nc, 4, 2, 1, bias=False),\n",
    "            nn.Tanh()\n",
    "            # state size. (nc) x 64 x 64\n",
    "        )\n",
    "\n",
    "    def forward(self, input):\n",
    "        return self.main(input)"
   ]
  },
  {
   "cell_type": "markdown",
   "metadata": {},
   "source": [
    "#### Spectral Normalization and Discriminator\n",
    "reference:\n",
    "1. https://github.com/christiancosgrove/pytorch-spectral-normalization-gan/blob/master/spectral_normalization.py\n",
    "2. https://github.com/christiancosgrove/pytorch-spectral-normalization-gan/blob/master/model.py"
   ]
  },
  {
   "cell_type": "code",
   "execution_count": 7,
   "metadata": {},
   "outputs": [],
   "source": [
    "from torch.optim.optimizer import Optimizer, required\n",
    "import torch.nn.functional as F\n",
    "from torch import Tensor\n",
    "from torch.nn import Parameter\n",
    "\n",
    "def l2normalize(v, eps=1e-12):\n",
    "    return v / (v.norm() + eps)\n",
    "\n",
    "\n",
    "class SpectralNorm(nn.Module):\n",
    "    def __init__(self, module, name='weight', power_iterations=1):\n",
    "        super(SpectralNorm, self).__init__()\n",
    "        self.module = module\n",
    "        self.name = name\n",
    "        self.power_iterations = power_iterations\n",
    "        if not self._made_params():\n",
    "            self._make_params()\n",
    "\n",
    "    def _update_u_v(self):\n",
    "        u = getattr(self.module, self.name + \"_u\")\n",
    "        v = getattr(self.module, self.name + \"_v\")\n",
    "        w = getattr(self.module, self.name + \"_bar\")\n",
    "\n",
    "        height = w.data.shape[0]\n",
    "        for _ in range(self.power_iterations):\n",
    "            v.data = l2normalize(torch.mv(torch.t(w.view(height,-1).data), u.data))\n",
    "            u.data = l2normalize(torch.mv(w.view(height,-1).data, v.data))\n",
    "\n",
    "        # sigma = torch.dot(u.data, torch.mv(w.view(height,-1).data, v.data))\n",
    "        sigma = u.dot(w.view(height, -1).mv(v))\n",
    "        setattr(self.module, self.name, w / sigma.expand_as(w))\n",
    "\n",
    "    def _made_params(self):\n",
    "        try:\n",
    "            u = getattr(self.module, self.name + \"_u\")\n",
    "            v = getattr(self.module, self.name + \"_v\")\n",
    "            w = getattr(self.module, self.name + \"_bar\")\n",
    "            return True\n",
    "        except AttributeError:\n",
    "            return False\n",
    "\n",
    "\n",
    "    def _make_params(self):\n",
    "        w = getattr(self.module, self.name)\n",
    "\n",
    "        height = w.data.shape[0]\n",
    "        width = w.view(height, -1).data.shape[1]\n",
    "\n",
    "        u = Parameter(w.data.new(height).normal_(0, 1), requires_grad=False)\n",
    "        v = Parameter(w.data.new(width).normal_(0, 1), requires_grad=False)\n",
    "        u.data = l2normalize(u.data)\n",
    "        v.data = l2normalize(v.data)\n",
    "        w_bar = Parameter(w.data)\n",
    "\n",
    "        del self.module._parameters[self.name]\n",
    "\n",
    "        self.module.register_parameter(self.name + \"_u\", u)\n",
    "        self.module.register_parameter(self.name + \"_v\", v)\n",
    "        self.module.register_parameter(self.name + \"_bar\", w_bar)\n",
    "\n",
    "\n",
    "    def forward(self, *args):\n",
    "        self._update_u_v()\n",
    "        return self.module.forward(*args)"
   ]
  },
  {
   "cell_type": "code",
   "execution_count": 8,
   "metadata": {},
   "outputs": [],
   "source": [
    "# Batch normalization is avoided for the critic (discriminator).\n",
    "if SNGAN and not WGAN:\n",
    "    \n",
    "    class Discriminator(nn.Module):   \n",
    "        def __init__(self, ngpu):\n",
    "            super(Discriminator, self).__init__()\n",
    "            self.ngpu = ngpu\n",
    "            self.main = nn.Sequential(\n",
    "                # input is (nc) x 64 x 64\n",
    "                #nn.Conv2d(in_channels=nc, out_channels=ndf, kernel_size=4, stride=2, padding=1, bias=False),\n",
    "                SpectralNorm(nn.Conv2d(nc, ndf, 4, 2, 1, bias=False)),\n",
    "                nn.LeakyReLU(0.2, inplace=True),\n",
    "                # state size. (ndf) x 32 x 32\n",
    "                SpectralNorm(nn.Conv2d(ndf, ndf * 2, 4, 2, 1, bias=False)),\n",
    "                #nn.BatchNorm2d(ndf * 2),\n",
    "                nn.LeakyReLU(0.2, inplace=True),\n",
    "                # state size. (ndf*2) x 16 x 16\n",
    "                SpectralNorm(nn.Conv2d(ndf * 2, ndf * 4, 4, 2, 1, bias=False)),\n",
    "                #nn.BatchNorm2d(ndf * 4),\n",
    "                nn.LeakyReLU(0.2, inplace=True),\n",
    "                # state size. (ndf*4) x 8 x 8\n",
    "                SpectralNorm(nn.Conv2d(ndf * 4, ndf * 8, 4, 2, 1, bias=False)),\n",
    "                #nn.BatchNorm2d(ndf * 8),\n",
    "                nn.LeakyReLU(0.2, inplace=True),\n",
    "                # state size. (ndf*8) x 4 x 4\n",
    "                SpectralNorm(nn.Conv2d(ndf * 8, 1, 4, 1, 0, bias=False))\n",
    "            )\n",
    "\n",
    "        def forward(self, input):\n",
    "            return self.main(input)\n",
    "\n",
    "elif WGAN and not SNGAN:\n",
    "    \n",
    "    class Discriminator(nn.Module):\n",
    "        def __init__(self, ngpu):\n",
    "            super(Discriminator, self).__init__()\n",
    "            self.ngpu = ngpu\n",
    "            self.main = nn.Sequential(\n",
    "                # input is (nc) x 64 x 64\n",
    "                nn.Conv2d(nc, ndf, 4, 2, 1, bias=False),\n",
    "                nn.LeakyReLU(0.2, inplace=True),\n",
    "                # state size. (ndf) x 32 x 32\n",
    "                nn.Conv2d(ndf, ndf * 2, 4, 2, 1, bias=False),\n",
    "                nn.BatchNorm2d(ndf * 2),\n",
    "                nn.LeakyReLU(0.2, inplace=True),\n",
    "                # state size. (ndf*2) x 16 x 16\n",
    "                nn.Conv2d(ndf * 2, ndf * 4, 4, 2, 1, bias=False),\n",
    "                nn.BatchNorm2d(ndf * 4),\n",
    "                nn.LeakyReLU(0.2, inplace=True),\n",
    "                # state size. (ndf*4) x 8 x 8\n",
    "                nn.Conv2d(ndf * 4, ndf * 8, 4, 2, 1, bias=False),\n",
    "                nn.BatchNorm2d(ndf * 8),\n",
    "                nn.LeakyReLU(0.2, inplace=True),\n",
    "                # state size. (ndf*8) x 4 x 4\n",
    "                nn.Conv2d(ndf * 8, 1, 4, 1, 0, bias=False)\n",
    "            )\n",
    "\n",
    "        def forward(self, input):\n",
    "            return self.main(input)\n",
    "    \n",
    "elif not WGAN and not SNGAN:\n",
    "    \n",
    "    class Discriminator(nn.Module):\n",
    "        def __init__(self, ngpu):\n",
    "            super(Discriminator, self).__init__()\n",
    "            self.ngpu = ngpu\n",
    "            self.main = nn.Sequential(\n",
    "                # input is (nc) x 64 x 64\n",
    "                nn.Conv2d(nc, ndf, 4, 2, 1, bias=False),\n",
    "                nn.LeakyReLU(0.2, inplace=True),\n",
    "                # state size. (ndf) x 32 x 32\n",
    "                nn.Conv2d(ndf, ndf * 2, 4, 2, 1, bias=False),\n",
    "                nn.BatchNorm2d(ndf * 2),\n",
    "                nn.LeakyReLU(0.2, inplace=True),\n",
    "                # state size. (ndf*2) x 16 x 16\n",
    "                nn.Conv2d(ndf * 2, ndf * 4, 4, 2, 1, bias=False),\n",
    "                nn.BatchNorm2d(ndf * 4),\n",
    "                nn.LeakyReLU(0.2, inplace=True),\n",
    "                # state size. (ndf*4) x 8 x 8\n",
    "                nn.Conv2d(ndf * 4, ndf * 8, 4, 2, 1, bias=False),\n",
    "                nn.BatchNorm2d(ndf * 8),\n",
    "                nn.LeakyReLU(0.2, inplace=True),\n",
    "                # state size. (ndf*8) x 4 x 4\n",
    "                nn.Conv2d(ndf * 8, 1, 4, 1, 0, bias=False),\n",
    "                nn.Sigmoid()\n",
    "            )\n",
    "\n",
    "        def forward(self, input):\n",
    "            return self.main(input)\n",
    "    \n",
    "else: \n",
    "    print(\"WRONG!\")\n",
    "    "
   ]
  },
  {
   "cell_type": "markdown",
   "metadata": {},
   "source": [
    "### Data\n",
    "\n",
    "Load data and seed"
   ]
  },
  {
   "cell_type": "code",
   "execution_count": 9,
   "metadata": {},
   "outputs": [],
   "source": [
    "torch.manual_seed(manualSeed)\n",
    "np.random.seed(manualSeed)"
   ]
  },
  {
   "cell_type": "code",
   "execution_count": 10,
   "metadata": {},
   "outputs": [
    {
     "name": "stdout",
     "output_type": "stream",
     "text": [
      "S_snapshots.shape = (100000, 1, 64, 64)\n"
     ]
    }
   ],
   "source": [
    "# load data\n",
    "S_snapshots = np.load(datafile)\n",
    "print(\"S_snapshots.shape =\", S_snapshots.shape)\n",
    "\n",
    "# choose data after warming up\n",
    "#S_snapshots = S_snapshots[start_config:]\n",
    "#print(\"S_snapshots.shape =\", S_snapshots.shape)\n",
    "\n",
    "# shuffle data before training\n",
    "np.random.shuffle(S_snapshots) # shuffle the configurations to eliminate the time evolutional effects\n",
    "S_snapshots_tensor = torch.tensor(S_snapshots, dtype=torch.double)"
   ]
  },
  {
   "cell_type": "markdown",
   "metadata": {},
   "source": [
    "Let's visualize the data"
   ]
  },
  {
   "cell_type": "code",
   "execution_count": 11,
   "metadata": {},
   "outputs": [
    {
     "data": {
      "image/png": "[encoded data removed]",
      "text/plain": [
       "<Figure size 432x432 with 1 Axes>"
      ]
     },
     "metadata": {},
     "output_type": "display_data"
    }
   ],
   "source": [
    "a = torch.tensor(S_snapshots[:16])\n",
    "b = vutils.make_grid(a, nrow=4, padding=1, normalize=True)\n",
    "plt.figure(figsize=(6,6))\n",
    "plt.axis(\"off\")\n",
    "plt.title(\"Training Images\")\n",
    "plt.pcolormesh(b[0], cmap='gray_r')\n",
    "plt.show()"
   ]
  },
  {
   "cell_type": "markdown",
   "metadata": {},
   "source": [
    "### Training\n",
    "make data loader"
   ]
  },
  {
   "cell_type": "code",
   "execution_count": 12,
   "metadata": {},
   "outputs": [],
   "source": [
    "dataloader = torch.utils.data.DataLoader(S_snapshots_tensor[0:num_configs], batch_size=batch_size, shuffle=False)"
   ]
  },
  {
   "cell_type": "markdown",
   "metadata": {},
   "source": [
    "Initialize generator and discriminator and start training"
   ]
  },
  {
   "cell_type": "code",
   "execution_count": 13,
   "metadata": {
    "scrolled": true
   },
   "outputs": [
    {
     "data": {
      "text/plain": [
       "Generator(\n",
       "  (main): Sequential(\n",
       "    (0): ConvTranspose2d(100, 512, kernel_size=(4, 4), stride=(1, 1), bias=False)\n",
       "    (1): BatchNorm2d(512, eps=1e-05, momentum=0.1, affine=True, track_running_stats=True)\n",
       "    (2): ReLU(inplace)\n",
       "    (3): ConvTranspose2d(512, 256, kernel_size=(4, 4), stride=(2, 2), padding=(1, 1), bias=False)\n",
       "    (4): BatchNorm2d(256, eps=1e-05, momentum=0.1, affine=True, track_running_stats=True)\n",
       "    (5): ReLU(inplace)\n",
       "    (6): ConvTranspose2d(256, 128, kernel_size=(4, 4), stride=(2, 2), padding=(1, 1), bias=False)\n",
       "    (7): BatchNorm2d(128, eps=1e-05, momentum=0.1, affine=True, track_running_stats=True)\n",
       "    (8): ReLU(inplace)\n",
       "    (9): ConvTranspose2d(128, 64, kernel_size=(4, 4), stride=(2, 2), padding=(1, 1), bias=False)\n",
       "    (10): BatchNorm2d(64, eps=1e-05, momentum=0.1, affine=True, track_running_stats=True)\n",
       "    (11): ReLU(inplace)\n",
       "    (12): ConvTranspose2d(64, 1, kernel_size=(4, 4), stride=(2, 2), padding=(1, 1), bias=False)\n",
       "    (13): Tanh()\n",
       "  )\n",
       ")"
      ]
     },
     "execution_count": 13,
     "metadata": {},
     "output_type": "execute_result"
    }
   ],
   "source": [
    "# Create the generator\n",
    "netG = Generator(ngpu).to(device)\n",
    "# Handle multi-gpu if desired\n",
    "if (device.type == 'cuda') and (ngpu > 1):\n",
    "    netG = nn.DataParallel(netG, list(range(ngpu)))\n",
    "# Apply the weights_init function to randomly initialize all weights\n",
    "#  to mean=0, stdev=0.2.\n",
    "netG.apply(weights_init)"
   ]
  },
  {
   "cell_type": "code",
   "execution_count": 14,
   "metadata": {},
   "outputs": [],
   "source": [
    "# Create the Discriminator\n",
    "netD = Discriminator(ngpu).to(device)\n",
    "if (device.type == 'cuda') and (ngpu > 1):\n",
    "    netD = nn.DataParallel(netD, list(range(ngpu)))\n",
    "#netD.apply(weights_init) # weights have been initialized inside the Discriminator function."
   ]
  },
  {
   "cell_type": "markdown",
   "metadata": {},
   "source": [
    "Define loss functions and optimizers"
   ]
  },
  {
   "cell_type": "code",
   "execution_count": 15,
   "metadata": {},
   "outputs": [],
   "source": [
    "# Initialize BCELoss function (not used)\n",
    "criterion = nn.BCELoss()\n",
    "\n",
    "# Create batch of latent vectors that we will use to visualize\n",
    "#  the progression of the generator\n",
    "fixed_noise = torch.randn(64, nz, 1, 1, device=device)\n",
    "\n",
    "# Establish convention for real and fake labels during training\n",
    "real_label = 1\n",
    "fake_label = 0\n",
    "\n",
    "# Setup RMSprop optimizers or Adam prop for both G and D (Wasserstein GAN)\n",
    "if optimizer == \"RMS\":\n",
    "    optimizerD = optim.RMSprop(netD.parameters(), lr=lr)\n",
    "    optimizerG = optim.RMSprop(netG.parameters(), lr=lr)\n",
    "    \n",
    "elif optimizer == \"Adam\":\n",
    "    optimizerD = optim.Adam(netD.parameters(), lr=lr, betas=(beta1, 0.999))\n",
    "    optimizerG = optim.Adam(netG.parameters(), lr=lr, betas=(beta1, 0.999))\n",
    "    \n",
    "else: \n",
    "    print(\"Optimizer is not defined!\")"
   ]
  },
  {
   "cell_type": "markdown",
   "metadata": {},
   "source": [
    "#### Define gradient penalty\n",
    "reference: https://github.com/EmilienDupont/wgan-gp"
   ]
  },
  {
   "cell_type": "code",
   "execution_count": 16,
   "metadata": {},
   "outputs": [],
   "source": [
    "def gradient_penalty(real_data, generated_data):\n",
    "    gp_weight = 10\n",
    "    batch_size = real_data.size()[0]\n",
    "    \n",
    "    # Calculate interpolation\n",
    "    alpha = torch.rand(batch_size, 1, 1, 1)\n",
    "    alpha = alpha.expand_as(real_data)\n",
    "    if (device.type == 'cuda') and (ngpu > 0):\n",
    "        alpha = alpha.cuda()\n",
    "    interpolated = alpha * real_data.data + (1 - alpha) * generated_data.data\n",
    "    interpolated = Variable(interpolated, requires_grad=True)\n",
    "    if (device.type == 'cuda') and (ngpu > 0):\n",
    "        interpolated = interpolated.cuda()\n",
    "\n",
    "    \n",
    "    # Calculate probability of interpolated examples\n",
    "    prob_interpolated = netD(interpolated)\n",
    "\n",
    "    # Calculate gradients of probabilities with respect to examples\n",
    "    gradients = torch_grad(outputs=prob_interpolated, inputs=interpolated,\n",
    "                           grad_outputs=torch.ones(prob_interpolated.size()).cuda() if ((device.type == 'cuda') and (ngpu > 0)) else torch.ones(\n",
    "                               prob_interpolated.size()),\n",
    "                           create_graph=True, retain_graph=True)[0]\n",
    "\n",
    "    # Gradients have shape (batch_size, num_channels, img_width, img_height),\n",
    "    # so flatten to easily take norm per example in batch\n",
    "    gradients = gradients.view(batch_size, -1)\n",
    "\n",
    "    # Derivatives of the gradient close to 0 can cause problems because of\n",
    "    # the square root, so manually calculate norm and add epsilon\n",
    "    gradients_norm = torch.sqrt(torch.sum(gradients ** 2, dim=1) + 1e-12)\n",
    "\n",
    "    # Return gradient penalty\n",
    "    return gp_weight * ((gradients_norm - 1) ** 2).mean()\n"
   ]
  },
  {
   "cell_type": "markdown",
   "metadata": {},
   "source": [
    "### Training Loop"
   ]
  },
  {
   "cell_type": "code",
   "execution_count": 17,
   "metadata": {
    "scrolled": true
   },
   "outputs": [
    {
     "name": "stdout",
     "output_type": "stream",
     "text": [
      "Starting Training Loop...\n",
      "G training 0, loss 1.565199613571167, D(G(z)) 0.332939088344574\n",
      "[0/5][0/782]\tLoss_D: 1.4451\tLoss_G: 1.5652\tD(x): 0.5332\tD(G(z)): 0.5521 / 0.3329\n",
      "G training 0, loss 3.562264919281006, D(G(z)) 0.04053448885679245\n",
      "[0/5][100/782]\tLoss_D: 0.7022\tLoss_G: 3.5623\tD(x): 0.6735\tD(G(z)): 0.2172 / 0.0405\n",
      "G training 0, loss 6.704633712768555, D(G(z)) 0.00184672512114048\n",
      "[0/5][200/782]\tLoss_D: 0.8836\tLoss_G: 6.7046\tD(x): 0.9465\tD(G(z)): 0.5250 / 0.0018\n",
      "G training 0, loss 6.308389663696289, D(G(z)) 0.002436155453324318\n",
      "[0/5][300/782]\tLoss_D: 0.3247\tLoss_G: 6.3084\tD(x): 0.8905\tD(G(z)): 0.1716 / 0.0024\n",
      "G training 0, loss 5.569855690002441, D(G(z)) 0.006195698864758015\n",
      "[0/5][400/782]\tLoss_D: 0.1181\tLoss_G: 5.5699\tD(x): 0.9187\tD(G(z)): 0.0271 / 0.0062\n",
      "G training 0, loss 7.158968448638916, D(G(z)) 0.0011296471348032355\n",
      "[0/5][500/782]\tLoss_D: 0.0286\tLoss_G: 7.1590\tD(x): 0.9859\tD(G(z)): 0.0140 / 0.0011\n",
      "G training 0, loss 6.242627143859863, D(G(z)) 0.002537922002375126\n",
      "[0/5][600/782]\tLoss_D: 0.0164\tLoss_G: 6.2426\tD(x): 0.9932\tD(G(z)): 0.0095 / 0.0025\n",
      "G training 0, loss 5.423320293426514, D(G(z)) 0.00723078940063715\n",
      "[0/5][700/782]\tLoss_D: 0.1523\tLoss_G: 5.4233\tD(x): 0.9070\tD(G(z)): 0.0303 / 0.0072\n",
      "G training 0, loss 5.610229969024658, D(G(z)) 0.005687974859029055\n",
      "[1/5][0/782]\tLoss_D: 0.0452\tLoss_G: 5.6102\tD(x): 0.9659\tD(G(z)): 0.0100 / 0.0057\n",
      "G training 0, loss 7.725895404815674, D(G(z)) 0.0006011115619912744\n",
      "[1/5][100/782]\tLoss_D: 0.0125\tLoss_G: 7.7259\tD(x): 0.9883\tD(G(z)): 0.0007 / 0.0006\n",
      "G training 0, loss 6.808315753936768, D(G(z)) 0.0015967898070812225\n",
      "[1/5][200/782]\tLoss_D: 0.1429\tLoss_G: 6.8083\tD(x): 0.9861\tD(G(z)): 0.1178 / 0.0016\n",
      "G training 0, loss 7.133782863616943, D(G(z)) 0.001127117546275258\n",
      "[1/5][300/782]\tLoss_D: 0.1646\tLoss_G: 7.1338\tD(x): 0.9936\tD(G(z)): 0.1423 / 0.0011\n",
      "G training 0, loss 5.848648548126221, D(G(z)) 0.004190325271338224\n",
      "[1/5][400/782]\tLoss_D: 0.0176\tLoss_G: 5.8486\tD(x): 0.9861\tD(G(z)): 0.0035 / 0.0042\n",
      "G training 0, loss 5.638461589813232, D(G(z)) 0.006216131150722504\n",
      "[1/5][500/782]\tLoss_D: 0.0177\tLoss_G: 5.6385\tD(x): 0.9944\tD(G(z)): 0.0120 / 0.0062\n",
      "G training 0, loss 4.99759578704834, D(G(z)) 0.010975761339068413\n",
      "[1/5][600/782]\tLoss_D: 0.0497\tLoss_G: 4.9976\tD(x): 0.9853\tD(G(z)): 0.0333 / 0.0110\n",
      "G training 0, loss 6.402248859405518, D(G(z)) 0.002698436612263322\n",
      "[1/5][700/782]\tLoss_D: 0.0392\tLoss_G: 6.4022\tD(x): 0.9705\tD(G(z)): 0.0081 / 0.0027\n",
      "G training 0, loss 6.928586483001709, D(G(z)) 0.0019592936150729656\n",
      "[2/5][0/782]\tLoss_D: 0.0441\tLoss_G: 6.9286\tD(x): 0.9993\tD(G(z)): 0.0375 / 0.0020\n",
      "G training 0, loss 5.845722675323486, D(G(z)) 0.004680842161178589\n",
      "[2/5][100/782]\tLoss_D: 0.0521\tLoss_G: 5.8457\tD(x): 0.9765\tD(G(z)): 0.0265 / 0.0047\n",
      "G training 0, loss 4.686456680297852, D(G(z)) 0.0185477826744318\n",
      "[2/5][200/782]\tLoss_D: 0.0444\tLoss_G: 4.6865\tD(x): 0.9714\tD(G(z)): 0.0135 / 0.0185\n",
      "G training 0, loss 4.605113983154297, D(G(z)) 0.015174931846559048\n",
      "[2/5][300/782]\tLoss_D: 0.0928\tLoss_G: 4.6051\tD(x): 0.9370\tD(G(z)): 0.0193 / 0.0152\n",
      "G training 0, loss 5.707213401794434, D(G(z)) 0.006264330819249153\n",
      "[2/5][400/782]\tLoss_D: 0.0200\tLoss_G: 5.7072\tD(x): 0.9917\tD(G(z)): 0.0114 / 0.0063\n",
      "G training 0, loss 5.514674663543701, D(G(z)) 0.007398693356662989\n",
      "[2/5][500/782]\tLoss_D: 0.0265\tLoss_G: 5.5147\tD(x): 0.9877\tD(G(z)): 0.0137 / 0.0074\n",
      "G training 0, loss 7.558104515075684, D(G(z)) 0.0009568265522830188\n",
      "[2/5][600/782]\tLoss_D: 0.0379\tLoss_G: 7.5581\tD(x): 0.9975\tD(G(z)): 0.0337 / 0.0010\n",
      "G training 0, loss 6.160109043121338, D(G(z)) 0.004056958947330713\n",
      "[2/5][700/782]\tLoss_D: 0.0299\tLoss_G: 6.1601\tD(x): 0.9805\tD(G(z)): 0.0096 / 0.0041\n",
      "G training 0, loss 7.152388572692871, D(G(z)) 0.0014662239700555801\n",
      "[3/5][0/782]\tLoss_D: 0.0054\tLoss_G: 7.1524\tD(x): 0.9965\tD(G(z)): 0.0018 / 0.0015\n",
      "G training 0, loss 5.516331195831299, D(G(z)) 0.007304762490093708\n",
      "[3/5][100/782]\tLoss_D: 0.0589\tLoss_G: 5.5163\tD(x): 0.9606\tD(G(z)): 0.0119 / 0.0073\n",
      "G training 0, loss 8.496088027954102, D(G(z)) 0.0004044582601636648\n",
      "[3/5][200/782]\tLoss_D: 0.0631\tLoss_G: 8.4961\tD(x): 0.9917\tD(G(z)): 0.0514 / 0.0004\n",
      "G training 0, loss 4.550502300262451, D(G(z)) 0.02224254235625267\n",
      "[3/5][300/782]\tLoss_D: 0.0892\tLoss_G: 4.5505\tD(x): 0.9674\tD(G(z)): 0.0493 / 0.0222\n",
      "G training 0, loss 6.512138366699219, D(G(z)) 0.0027167052030563354\n",
      "[3/5][400/782]\tLoss_D: 0.0169\tLoss_G: 6.5121\tD(x): 0.9896\tD(G(z)): 0.0059 / 0.0027\n",
      "G training 0, loss 6.230005741119385, D(G(z)) 0.00328248692676425\n",
      "[3/5][500/782]\tLoss_D: 0.0352\tLoss_G: 6.2300\tD(x): 0.9879\tD(G(z)): 0.0221 / 0.0033\n",
      "G training 0, loss 7.630284786224365, D(G(z)) 0.0009486859198659658\n",
      "[3/5][600/782]\tLoss_D: 0.0044\tLoss_G: 7.6303\tD(x): 0.9972\tD(G(z)): 0.0016 / 0.0009\n",
      "G training 0, loss 6.3339152336120605, D(G(z)) 0.00280373846180737\n",
      "[3/5][700/782]\tLoss_D: 0.0134\tLoss_G: 6.3339\tD(x): 0.9906\tD(G(z)): 0.0037 / 0.0028\n",
      "G training 0, loss 7.26692008972168, D(G(z)) 0.0014536925591528416\n",
      "[4/5][0/782]\tLoss_D: 0.0034\tLoss_G: 7.2669\tD(x): 0.9985\tD(G(z)): 0.0019 / 0.0015\n",
      "G training 0, loss 6.73048734664917, D(G(z)) 0.0020658643916249275\n",
      "[4/5][100/782]\tLoss_D: 0.0071\tLoss_G: 6.7305\tD(x): 0.9964\tD(G(z)): 0.0035 / 0.0021\n",
      "G training 0, loss 13.32161808013916, D(G(z)) 1.2559925380628556e-05\n",
      "[4/5][200/782]\tLoss_D: 0.0000\tLoss_G: 13.3216\tD(x): 1.0000\tD(G(z)): 0.0000 / 0.0000\n",
      "G training 0, loss 6.200821876525879, D(G(z)) 0.004304027650505304\n",
      "[4/5][300/782]\tLoss_D: 0.0666\tLoss_G: 6.2008\tD(x): 0.9706\tD(G(z)): 0.0335 / 0.0043\n",
      "G training 0, loss 6.4696455001831055, D(G(z)) 0.0028345815371721983\n",
      "[4/5][400/782]\tLoss_D: 0.0113\tLoss_G: 6.4696\tD(x): 0.9928\tD(G(z)): 0.0039 / 0.0028\n",
      "G training 0, loss 9.211997032165527, D(G(z)) 0.0001755033154040575\n",
      "[4/5][500/782]\tLoss_D: 0.0801\tLoss_G: 9.2120\tD(x): 0.9962\tD(G(z)): 0.0713 / 0.0002\n",
      "G training 0, loss 8.399508476257324, D(G(z)) 0.00035297172144055367\n",
      "[4/5][600/782]\tLoss_D: 0.0020\tLoss_G: 8.3995\tD(x): 0.9984\tD(G(z)): 0.0004 / 0.0004\n",
      "G training 0, loss 7.652660369873047, D(G(z)) 0.0008662897162139416\n",
      "[4/5][700/782]\tLoss_D: 0.0013\tLoss_G: 7.6527\tD(x): 0.9997\tD(G(z)): 0.0010 / 0.0009\n"
     ]
    }
   ],
   "source": [
    "# Lists to keep track of progress\n",
    "img_list = []\n",
    "G_losses = []\n",
    "D_losses = []\n",
    "iters = 0\n",
    "print_freq =100\n",
    "\n",
    "criterion_mz = nn.MSELoss()\n",
    "\n",
    "print(\"Starting Training Loop...\")\n",
    "# For each epoch\n",
    "for epoch in range(num_epochs):\n",
    "    # For each batch in the dataloader\n",
    "    for i, data in enumerate(dataloader):\n",
    "\n",
    "        ############################\n",
    "        # (1) Update D network: Wasserstein loss function\n",
    "        ###########################\n",
    "        ## Train with all-real batch\n",
    "        netD.zero_grad()\n",
    "        # Format batch\n",
    "        real_cpu = data.to(device) # real data\n",
    "        b_size = real_cpu.size(0)\n",
    "        label = torch.full((b_size,), real_label, device=device)\n",
    "        \n",
    "        # change all configurations with mz < 0 to mz > 0\n",
    "        sign = torch.sum(real_cpu, (-1,-2,-3))\n",
    "        sign = torch.sign(sign)\n",
    "        sign = sign.cpu().numpy().reshape((sign.shape[0],1,1,1))\n",
    "        s_test = real_cpu.cpu().numpy()\n",
    "        s_test = sign * s_test\n",
    "        real_cpu = torch.from_numpy(s_test).to(device)\n",
    "        \n",
    "        # real magnetization\n",
    "        if Mz_loss:\n",
    "            mz_real = torch.mean(real_cpu, (-1,-2,-3))\n",
    "        else:\n",
    "            None\n",
    "        \n",
    "        # Forward pass real batch through D\n",
    "        D_real = netD(real_cpu.float()).view(-1)\n",
    "        # Calculate loss on all-real batch\n",
    "        if Loss_func == \"Wasserstein\":\n",
    "            errD_real = -torch.mean(D_real)\n",
    "        elif Loss_func == \"hinge\":\n",
    "            errD_real = nn.ReLU()(1.0 - D_real).mean()\n",
    "        elif Loss_func == \"BCE\":\n",
    "            errD_real = criterion(D_real, label)\n",
    "            errD_real.backward()\n",
    "        # Calculate gradients for D in backward pass\n",
    "        # errD_real.backward()\n",
    "        D_x = D_real.mean().item()\n",
    "        \n",
    "        ## Train with all-fake batch\n",
    "        # Generate batch of latent vectors\n",
    "        noise = torch.randn(b_size, nz, 1, 1, device=device)\n",
    "        # Generate fake image batch with G\n",
    "        fake = netG(noise) # generated data\n",
    "        \n",
    "        # fake magnetization\n",
    "        if Mz_loss:\n",
    "            mz_fake = torch.mean(fake, (-1,-2,-3))\n",
    "        else:\n",
    "            None\n",
    "        \n",
    "        label.fill_(fake_label)\n",
    "        # Classify all fake batch with D\n",
    "        D_fake = netD(fake.detach()).view(-1) \n",
    "        # Calculate D's loss on the all-fake batch    \n",
    "        if Loss_func == \"Wasserstein\":\n",
    "            errD_fake = torch.mean(D_fake) \n",
    "        elif Loss_func == \"hinge\":\n",
    "            errD_fake = nn.ReLU()(1.0 + D_fake).mean()\n",
    "        elif Loss_func == \"BCE\":\n",
    "            errD_fake = criterion(D_fake, label)\n",
    "            errD_fake.backward()\n",
    "        # Calculate the gradients for this batch\n",
    "        D_G_z1 = D_fake.mean().item()\n",
    "        \n",
    "        # Add the gradients from the all-real and all-fake batches\n",
    "        # consider gradient penalty\n",
    "        if Gradientpenalty == True:\n",
    "            gd_penalty = gradient_penalty(real_cpu.float(), fake.float())\n",
    "            errD = errD_real + errD_fake + gd_penalty\n",
    "        else:\n",
    "            errD = errD_real + errD_fake\n",
    "        \n",
    "        # Calculate the gradients for this batch\n",
    "        if Loss_func == \"BCE\":\n",
    "            None\n",
    "        else:\n",
    "            errD.backward()\n",
    "        # Update D\n",
    "        optimizerD.step()\n",
    "        \n",
    "        # weight clipping\n",
    "        if WeightClipping == True:\n",
    "            for wclip in netD.parameters():\n",
    "                wclip.data.clamp_(-0.01, 0.01)\n",
    "        \n",
    "        \n",
    "        ############################\n",
    "        # (2) Update G network: maximize log(D(G(z)))\n",
    "        ###########################\n",
    "        \n",
    "        netG.zero_grad()\n",
    "        label.fill_(real_label)  # fake labels are real for generator cost\n",
    "        # Since we just updated D, perform another forward pass of all-fake batch through D\n",
    "        output = netD(fake).view(-1)\n",
    "        \n",
    "        # Calculate G's loss based on this output\n",
    "        # Calcultae G's loss based on the magnetization by criterion_mz()\n",
    "        if Mz_loss:\n",
    "            if Loss_func == \"Wasserstein\" or Loss_func == \"hinge\":\n",
    "                errG = -torch.mean(output) + criterion_mz(mz_real.float().to(device), mz_fake.float().to(device))\n",
    "            elif Loss_func == \"BCE\":\n",
    "                errG = criterion(output, label) + criterion_mz(mz_real.float().to(device), mz_fake.float().to(device))\n",
    "        else:\n",
    "            if Loss_func == \"Wasserstein\" or Loss_func == \"hinge\":\n",
    "                errG = -torch.mean(output)\n",
    "            elif Loss_func == \"BCE\":\n",
    "                errG = criterion(output, label)\n",
    "        \n",
    "        # Calculate gradients for G\n",
    "        errG.backward()\n",
    "        D_G_z2 = output.mean().item()\n",
    "        # Update G\n",
    "        optimizerG.step()\n",
    "        \n",
    "        if i % print_freq == 0:\n",
    "            print(\"G training {}, loss {}, D(G(z)) {}\".format(0, errG.item(), D_G_z2))\n",
    "        \n",
    "        for j in range(1,1):\n",
    "            # noise = torch.randn(b_size, nz, 1, 1, device=device)\n",
    "            fake = netG(noise)\n",
    "            netG.zero_grad()\n",
    "            label.fill_(real_label)  # fake labels are real for generator cost\n",
    "            # Since we just updated D, perform another forward pass of all-fake batch through D\n",
    "            output = netD(fake).view(-1)\n",
    "            # Calculate G's loss based on this output\n",
    "            if Loss_func == \"Wasserstein\" or Loss_func == \"hinge\":\n",
    "                errG = -torch.mean(output)\n",
    "            elif Loss_func == \"BCE\":\n",
    "                errG = criterion(output, label)\n",
    "            # Calculate gradients for G\n",
    "            errG.backward()\n",
    "            D_G_z2 = output.mean().item()\n",
    "            # Update G\n",
    "            optimizerG.step()\n",
    "            print(\"G training {}, loss {}, D(G(z)) {}\".format(j, errG.item(), D_G_z2))\n",
    "\n",
    "        # Output training stats\n",
    "        if i % print_freq == 0:\n",
    "            print('[%d/%d][%d/%d]\\tLoss_D: %.4f\\tLoss_G: %.4f\\tD(x): %.4f\\tD(G(z)): %.4f / %.4f'\n",
    "                  % (epoch, num_epochs, i, len(dataloader),\n",
    "                     errD.item(), errG.item(), D_x, D_G_z1, D_G_z2))\n",
    "\n",
    "        # Save Losses for plotting later\n",
    "        G_losses.append(errG.item())\n",
    "        D_losses.append(errD.item())\n",
    "        \n",
    "        # Check how the generator is doing by saving G's output on fixed_noise\n",
    "        if (iters % 500 == 0) or ((epoch == num_epochs-1) and (i == len(dataloader)-1)):\n",
    "            with torch.no_grad():\n",
    "                fake = netG(fixed_noise).detach().cpu()\n",
    "            img_list.append(vutils.make_grid(fake, padding=2, normalize=True))\n",
    "\n",
    "        iters += 1"
   ]
  },
  {
   "cell_type": "code",
   "execution_count": 18,
   "metadata": {},
   "outputs": [],
   "source": [
    "G_modules_list = list(netG.modules())"
   ]
  },
  {
   "cell_type": "markdown",
   "metadata": {},
   "source": [
    "#### check output"
   ]
  },
  {
   "cell_type": "code",
   "execution_count": 19,
   "metadata": {
    "scrolled": false
   },
   "outputs": [],
   "source": [
    "fake = netG(fixed_noise)"
   ]
  },
  {
   "cell_type": "code",
   "execution_count": 20,
   "metadata": {},
   "outputs": [],
   "source": [
    "output = netD(fake).view(-1)"
   ]
  },
  {
   "cell_type": "code",
   "execution_count": 21,
   "metadata": {},
   "outputs": [],
   "source": [
    "step_f = Stepping()"
   ]
  },
  {
   "cell_type": "code",
   "execution_count": 33,
   "metadata": {},
   "outputs": [
    {
     "data": {
      "image/png": "[encoded data removed]",
      "text/plain": [
       "<Figure size 432x432 with 1 Axes>"
      ]
     },
     "metadata": {},
     "output_type": "display_data"
    }
   ],
   "source": [
    "plt.figure(figsize=(6,6))\n",
    "if SNGAN:\n",
    "    plt.title(\"SN-GAN: loss function: {}, optimizer: {}, mz loss: {}\".format(Loss_func, optimizer, Mz_loss))\n",
    "elif WGAN and Gradientpenalty:\n",
    "    plt.title(\"W-GAN with GP: loss function: {}, optimizer: {}, mz loss: {}\".format(Loss_func, optimizer, Mz_loss))\n",
    "elif WGAN and WeightClipping:\n",
    "    plt.title(\"W-GAN with WC: loss function: {}, optimizer: {}, mz loss: {}\".format(Loss_func, optimizer, Mz_loss))\n",
    "elif not WGAN and not SNGAN:\n",
    "    plt.title(\"GAN: loss function: {}, optimizer: {}, mz loss: {}\".format(Loss_func, optimizer, Mz_loss))\n",
    "plt.pcolormesh(step_f(fake[53].detach().cpu()[0]), cmap='binary')\n",
    "plt.show()\n",
    "\n"
   ]
  },
  {
   "cell_type": "code",
   "execution_count": 78,
   "metadata": {},
   "outputs": [
    {
     "data": {
      "image/png": "[encoded data removed]",
      "text/plain": [
       "<Figure size 432x432 with 1 Axes>"
      ]
     },
     "metadata": {},
     "output_type": "display_data"
    }
   ],
   "source": [
    "plt.figure(figsize=(6,6))\n",
    "plt.pcolormesh(-1*data[2][0], cmap='binary')\n",
    "plt.show()"
   ]
  },
  {
   "cell_type": "code",
   "execution_count": 29,
   "metadata": {},
   "outputs": [],
   "source": [
    "# generate N_fake fake data\n",
    "N_fake = 10000\n",
    "fixed_noise = torch.randn(N_fake, nz, 1, 1)\n",
    "fakedata = netG.cpu()(fixed_noise)\n",
    "fakedata = step_f(fakedata)"
   ]
  },
  {
   "cell_type": "code",
   "execution_count": 30,
   "metadata": {},
   "outputs": [
    {
     "name": "stderr",
     "output_type": "stream",
     "text": [
      "/home/ubuntu/anaconda3/envs/pytorch_p36/lib/python3.6/site-packages/matplotlib/axes/_axes.py:6462: UserWarning: The 'normed' kwarg is deprecated, and has been replaced by the 'density' kwarg.\n",
      "  warnings.warn(\"The 'normed' kwarg is deprecated, and has been \"\n",
      "/home/ubuntu/anaconda3/envs/pytorch_p36/lib/python3.6/site-packages/matplotlib/axes/_axes.py:6462: UserWarning: The 'normed' kwarg is deprecated, and has been replaced by the 'density' kwarg.\n",
      "  warnings.warn(\"The 'normed' kwarg is deprecated, and has been \"\n"
     ]
    },
    {
     "data": {
      "image/png": "[encoded data removed]",
      "text/plain": [
       "<Figure size 720x576 with 1 Axes>"
      ]
     },
     "metadata": {},
     "output_type": "display_data"
    }
   ],
   "source": [
    "Tmpt =2.27\n",
    "# matplotlib histogram\n",
    "kwargs = dict(histtype='stepfilled', alpha=0.3, normed=True, bins=int(180/5))\n",
    "\n",
    "fake_mz = abs(torch.mean(fakedata.cpu(), (-1,-2,-3))).detach().numpy()\n",
    "real_mz = abs(np.mean(S_snapshots, (-1,-2,-3)))\n",
    "\n",
    "plt.figure(figsize=(10,8))\n",
    "plt.hist(fake_mz, **kwargs, label='generated data', color = 'r')\n",
    "plt.hist(real_mz, **kwargs, label ='real data', color = 'b')\n",
    "\n",
    "# Add labels\n",
    "plt.legend(loc='upper left',fontsize=20)\n",
    "if SNGAN:\n",
    "    plt.title('Histogram of Magnetization at T = {} \\n SN-GAN: loss function: {}, optimizer: {}, mz loss: {}'.format(Tmpt, Loss_func, optimizer, Mz_loss),fontsize=20)\n",
    "elif WGAN and Gradientpenalty:\n",
    "    plt.title('Histogram of Magnetization at T = {} \\n W-GAN with GP: loss function: {}, optimizer: {}, mz loss: {}'.format(Tmpt, Loss_func, optimizer, Mz_loss),fontsize=20)\n",
    "elif WGAN and WeightClipping:\n",
    "    plt.title('Histogram of Magnetization at T = {} \\n W-GAN with WC: loss function: {}, optimizer: {}, mz loss: {}'.format(Tmpt, Loss_func, optimizer, Mz_loss),fontsize=20)\n",
    "elif not SNGAN and not WGAN:\n",
    "    plt.title('Histogram of Magnetization at T = {} \\n GAN: loss function: {}, optimizer: {}, mz loss: {}'.format(Tmpt, Loss_func, optimizer, Mz_loss),fontsize=20)\n",
    "\n",
    "plt.xlabel('mz',fontsize=20)\n",
    "plt.ylabel('Probability Density',fontsize=20)\n",
    "plt.show()\n"
   ]
  },
  {
   "cell_type": "code",
   "execution_count": 42,
   "metadata": {},
   "outputs": [
    {
     "data": {
      "image/png": "[encoded data removed]",
      "text/plain": [
       "<Figure size 432x288 with 1 Axes>"
      ]
     },
     "metadata": {},
     "output_type": "display_data"
    }
   ],
   "source": [
    "plt.plot(fake_mz,'ro')\n",
    "plt.xlabel(\"\")\n",
    "plt.ylabel(\"mz\")\n",
    "plt.show()"
   ]
  },
  {
   "cell_type": "code",
   "execution_count": 62,
   "metadata": {},
   "outputs": [
    {
     "data": {
      "text/plain": [
       "<matplotlib.collections.QuadMesh at 0x7efe57c5b780>"
      ]
     },
     "execution_count": 62,
     "metadata": {},
     "output_type": "execute_result"
    },
    {
     "data": {
      "image/png": "[encoded data removed]",
      "text/plain": [
       "<Figure size 432x288 with 1 Axes>"
      ]
     },
     "metadata": {},
     "output_type": "display_data"
    }
   ],
   "source": [
    "plt.pcolormesh(torch.from_numpy(S_snapshots[5]).reshape((Nx,Ny)), cmap='binary')"
   ]
  }
 ],
 "metadata": {
  "kernelspec": {
   "display_name": "Environment (conda_pytorch_p36)",
   "language": "python",
   "name": "conda_pytorch_p36"
  },
  "language_info": {
   "codemirror_mode": {
    "name": "ipython",
    "version": 3
   },
   "file_extension": ".py",
   "mimetype": "text/x-python",
   "name": "python",
   "nbconvert_exporter": "python",
   "pygments_lexer": "ipython3",
   "version": "3.6.5"
  }
 },
 "nbformat": 4,
 "nbformat_minor": 2
}
